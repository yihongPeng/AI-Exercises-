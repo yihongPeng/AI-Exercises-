{
 "cells": [
  {
   "cell_type": "markdown",
   "metadata": {
    "id": "r3qznmgak2XM"
   },
   "source": [
    "# View protein structure in 3D\n",
    "\n",
    "More visualization options [here](https://colab.research.google.com/drive/1T2zR59TXyWRcNxRgOAiqVPJWhep83NV_?usp=sharing#scrollTo=0N6PEYCyGx5g)."
   ]
  },
  {
   "cell_type": "code",
   "execution_count": 5,
   "metadata": {
    "executionInfo": {
     "elapsed": 5041,
     "status": "ok",
     "timestamp": 1644112008903,
     "user": {
      "displayName": "Michael Duprey",
      "photoUrl": "https://lh3.googleusercontent.com/a-/AOh14GhbSFcjL36v0OKLBQ3jUFBauo0tBLUD-KT_zCMchw=s64",
      "userId": "05498947526580544465"
     },
     "user_tz": 420
    },
    "id": "wKuId4wiAfxg"
   },
   "outputs": [
    {
     "name": "stderr",
     "output_type": "stream",
     "text": [
      "ERROR: Exception:\n",
      "Traceback (most recent call last):\n",
      "  File \"D:\\Anaconda3\\Lib\\site-packages\\pip\\_internal\\cli\\base_command.py\", line 180, in exc_logging_wrapper\n",
      "    status = run_func(*args)\n",
      "             ^^^^^^^^^^^^^^^\n",
      "  File \"D:\\Anaconda3\\Lib\\site-packages\\pip\\_internal\\cli\\req_command.py\", line 245, in wrapper\n",
      "    return func(self, options, args)\n",
      "           ^^^^^^^^^^^^^^^^^^^^^^^^^\n",
      "  File \"D:\\Anaconda3\\Lib\\site-packages\\pip\\_internal\\commands\\install.py\", line 362, in run\n",
      "    resolver = self.make_resolver(\n",
      "               ^^^^^^^^^^^^^^^^^^^\n",
      "  File \"D:\\Anaconda3\\Lib\\site-packages\\pip\\_internal\\cli\\req_command.py\", line 355, in make_resolver\n",
      "    return pip._internal.resolution.resolvelib.resolver.Resolver(\n",
      "           ^^^^^^^^^^^^^^^^^^^^^^^^^^^^^^^^^^^^^^^^^^^^^^^^^^^^^^\n",
      "  File \"D:\\Anaconda3\\Lib\\site-packages\\pip\\_internal\\resolution\\resolvelib\\resolver.py\", line 58, in __init__\n",
      "    self.factory = Factory(\n",
      "                   ^^^^^^^^\n",
      "  File \"D:\\Anaconda3\\Lib\\site-packages\\pip\\_internal\\resolution\\resolvelib\\factory.py\", line 121, in __init__\n",
      "    self._installed_dists = {\n",
      "                            ^\n",
      "  File \"D:\\Anaconda3\\Lib\\site-packages\\pip\\_internal\\resolution\\resolvelib\\factory.py\", line 121, in <dictcomp>\n",
      "    self._installed_dists = {\n",
      "                            ^\n",
      "  File \"D:\\Anaconda3\\Lib\\site-packages\\pip\\_internal\\metadata\\base.py\", line 678, in <genexpr>\n",
      "    return (d for d in it if d.canonical_name not in skip)\n",
      "           ^^^^^^^^^^^^^^^^^^^^^^^^^^^^^^^^^^^^^^^^^^^^^^^\n",
      "  File \"D:\\Anaconda3\\Lib\\site-packages\\pip\\_internal\\metadata\\base.py\", line 626, in iter_all_distributions\n",
      "    for dist in self._iter_distributions():\n",
      "  File \"D:\\Anaconda3\\Lib\\site-packages\\pip\\_internal\\metadata\\importlib\\_envs.py\", line 181, in _iter_distributions\n",
      "    yield from finder.find_linked(location)\n",
      "  File \"D:\\Anaconda3\\Lib\\site-packages\\pip\\_internal\\metadata\\importlib\\_envs.py\", line 103, in find_linked\n",
      "    target_rel = next((line for line in lines if line), \"\")\n",
      "                 ^^^^^^^^^^^^^^^^^^^^^^^^^^^^^^^^^^^^^^^^^^\n",
      "  File \"D:\\Anaconda3\\Lib\\site-packages\\pip\\_internal\\metadata\\importlib\\_envs.py\", line 103, in <genexpr>\n",
      "    target_rel = next((line for line in lines if line), \"\")\n",
      "                      ^^^^^^^^^^^^^^^^^^^^^^^^^^^^^^^^\n",
      "  File \"D:\\Anaconda3\\Lib\\site-packages\\pip\\_internal\\metadata\\importlib\\_envs.py\", line 102, in <genexpr>\n",
      "    lines = (line.strip() for line in f)\n",
      "            ^^^^^^^^^^^^^^^^^^^^^^^^^^^^\n",
      "  File \"<frozen codecs>\", line 322, in decode\n",
      "UnicodeDecodeError: 'utf-8' codec can't decode byte 0xc5 in position 9: invalid continuation byte\n",
      "ERROR: Exception:\n",
      "Traceback (most recent call last):\n",
      "  File \"D:\\Anaconda3\\Lib\\site-packages\\pip\\_internal\\cli\\base_command.py\", line 180, in exc_logging_wrapper\n",
      "    status = run_func(*args)\n",
      "             ^^^^^^^^^^^^^^^\n",
      "  File \"D:\\Anaconda3\\Lib\\site-packages\\pip\\_internal\\cli\\req_command.py\", line 245, in wrapper\n",
      "    return func(self, options, args)\n",
      "           ^^^^^^^^^^^^^^^^^^^^^^^^^\n",
      "  File \"D:\\Anaconda3\\Lib\\site-packages\\pip\\_internal\\commands\\install.py\", line 362, in run\n",
      "    resolver = self.make_resolver(\n",
      "               ^^^^^^^^^^^^^^^^^^^\n",
      "  File \"D:\\Anaconda3\\Lib\\site-packages\\pip\\_internal\\cli\\req_command.py\", line 355, in make_resolver\n",
      "    return pip._internal.resolution.resolvelib.resolver.Resolver(\n",
      "           ^^^^^^^^^^^^^^^^^^^^^^^^^^^^^^^^^^^^^^^^^^^^^^^^^^^^^^\n",
      "  File \"D:\\Anaconda3\\Lib\\site-packages\\pip\\_internal\\resolution\\resolvelib\\resolver.py\", line 58, in __init__\n",
      "    self.factory = Factory(\n",
      "                   ^^^^^^^^\n",
      "  File \"D:\\Anaconda3\\Lib\\site-packages\\pip\\_internal\\resolution\\resolvelib\\factory.py\", line 121, in __init__\n",
      "    self._installed_dists = {\n",
      "                            ^\n",
      "  File \"D:\\Anaconda3\\Lib\\site-packages\\pip\\_internal\\resolution\\resolvelib\\factory.py\", line 121, in <dictcomp>\n",
      "    self._installed_dists = {\n",
      "                            ^\n",
      "  File \"D:\\Anaconda3\\Lib\\site-packages\\pip\\_internal\\metadata\\base.py\", line 678, in <genexpr>\n",
      "    return (d for d in it if d.canonical_name not in skip)\n",
      "           ^^^^^^^^^^^^^^^^^^^^^^^^^^^^^^^^^^^^^^^^^^^^^^^\n",
      "  File \"D:\\Anaconda3\\Lib\\site-packages\\pip\\_internal\\metadata\\base.py\", line 626, in iter_all_distributions\n",
      "    for dist in self._iter_distributions():\n",
      "  File \"D:\\Anaconda3\\Lib\\site-packages\\pip\\_internal\\metadata\\importlib\\_envs.py\", line 181, in _iter_distributions\n",
      "    yield from finder.find_linked(location)\n",
      "  File \"D:\\Anaconda3\\Lib\\site-packages\\pip\\_internal\\metadata\\importlib\\_envs.py\", line 103, in find_linked\n",
      "    target_rel = next((line for line in lines if line), \"\")\n",
      "                 ^^^^^^^^^^^^^^^^^^^^^^^^^^^^^^^^^^^^^^^^^^\n",
      "  File \"D:\\Anaconda3\\Lib\\site-packages\\pip\\_internal\\metadata\\importlib\\_envs.py\", line 103, in <genexpr>\n",
      "    target_rel = next((line for line in lines if line), \"\")\n",
      "                      ^^^^^^^^^^^^^^^^^^^^^^^^^^^^^^^^\n",
      "  File \"D:\\Anaconda3\\Lib\\site-packages\\pip\\_internal\\metadata\\importlib\\_envs.py\", line 102, in <genexpr>\n",
      "    lines = (line.strip() for line in f)\n",
      "            ^^^^^^^^^^^^^^^^^^^^^^^^^^^^\n",
      "  File \"<frozen codecs>\", line 322, in decode\n",
      "UnicodeDecodeError: 'utf-8' codec can't decode byte 0xc5 in position 9: invalid continuation byte\n"
     ]
    }
   ],
   "source": [
    "! pip install -q biopython\n",
    "! pip install -q py3Dmol"
   ]
  },
  {
   "cell_type": "code",
   "execution_count": 6,
   "metadata": {
    "executionInfo": {
     "elapsed": 135,
     "status": "ok",
     "timestamp": 1644112153217,
     "user": {
      "displayName": "Michael Duprey",
      "photoUrl": "https://lh3.googleusercontent.com/a-/AOh14GhbSFcjL36v0OKLBQ3jUFBauo0tBLUD-KT_zCMchw=s64",
      "userId": "05498947526580544465"
     },
     "user_tz": 420
    },
    "id": "u5yvkkN3AJ7o"
   },
   "outputs": [],
   "source": [
    "import os\n",
    "import numpy as np\n",
    "import matplotlib.pyplot as plt\n",
    "import py3Dmol\n",
    "import random\n",
    "\n",
    "from Bio.PDB import PDBParser, PDBList"
   ]
  },
  {
   "cell_type": "code",
   "execution_count": 7,
   "metadata": {
    "executionInfo": {
     "elapsed": 130,
     "status": "ok",
     "timestamp": 1644112155094,
     "user": {
      "displayName": "Michael Duprey",
      "photoUrl": "https://lh3.googleusercontent.com/a-/AOh14GhbSFcjL36v0OKLBQ3jUFBauo0tBLUD-KT_zCMchw=s64",
      "userId": "05498947526580544465"
     },
     "user_tz": 420
    },
    "id": "LoPkRMLYA06C"
   },
   "outputs": [],
   "source": [
    "parser = PDBParser(PERMISSIVE=1, QUIET=True)"
   ]
  },
  {
   "cell_type": "code",
   "execution_count": 8,
   "metadata": {},
   "outputs": [],
   "source": [
    "os.chdir('./data')"
   ]
  },
  {
   "cell_type": "markdown",
   "metadata": {
    "id": "WTIpZjwv3cIk"
   },
   "source": [
    "Define function to render the 3D structure"
   ]
  },
  {
   "cell_type": "code",
   "execution_count": 9,
   "metadata": {
    "executionInfo": {
     "elapsed": 151,
     "status": "ok",
     "timestamp": 1644112016080,
     "user": {
      "displayName": "Michael Duprey",
      "photoUrl": "https://lh3.googleusercontent.com/a-/AOh14GhbSFcjL36v0OKLBQ3jUFBauo0tBLUD-KT_zCMchw=s64",
      "userId": "05498947526580544465"
     },
     "user_tz": 420
    },
    "id": "5T3NbKHRuemd"
   },
   "outputs": [],
   "source": [
    "def view_mol(file, style=None):\n",
    "    \"\"\"\n",
    "    Given a file path to PDB .ent file, parse it and render the 3D structure\n",
    "    \"\"\"\n",
    "    file_name = os.path.split(file)[1]\n",
    "    structure_id = os.path.splitext(file_name)[0] \n",
    "    structure = parser.get_structure(structure_id, file)\n",
    "    try:\n",
    "        pdb_id = parser.get_header()['idcode']\n",
    "    except KeyError:\n",
    "        pdb_id = parser.get_header()['astral']['Source-PDB']\n",
    "\n",
    "    mol = py3Dmol.view(query='pdb:'+pdb_id)\n",
    "    if style == 'cartoon':\n",
    "        mol.setStyle({'cartoon':{'color':'spectrum', 'arrows':'true'}})\n",
    "    \n",
    "    return mol.render()"
   ]
  },
  {
   "cell_type": "markdown",
   "metadata": {
    "id": "53Lv-_543gV8"
   },
   "source": [
    "## Select files"
   ]
  },
  {
   "cell_type": "markdown",
   "metadata": {
    "id": "zW_xzMIEA-0Y"
   },
   "source": [
    "If PDB files stored on Google Drive"
   ]
  },
  {
   "cell_type": "code",
   "execution_count": 10,
   "metadata": {
    "executionInfo": {
     "elapsed": 134,
     "status": "ok",
     "timestamp": 1644112159215,
     "user": {
      "displayName": "Michael Duprey",
      "photoUrl": "https://lh3.googleusercontent.com/a-/AOh14GhbSFcjL36v0OKLBQ3jUFBauo0tBLUD-KT_zCMchw=s64",
      "userId": "05498947526580544465"
     },
     "user_tz": 420
    },
    "id": "xbWfOZtXzcXn"
   },
   "outputs": [],
   "source": [
    "file = './SCOP40mini/' + random.choice(os.listdir('./SCOP40mini/'))"
   ]
  },
  {
   "cell_type": "markdown",
   "metadata": {
    "id": "jEO-0aU-BGeE"
   },
   "source": [
    "If downloading from PDB"
   ]
  },
  {
   "cell_type": "code",
   "execution_count": 11,
   "metadata": {
    "colab": {
     "base_uri": "https://localhost:8080/"
    },
    "executionInfo": {
     "elapsed": 730,
     "status": "ok",
     "timestamp": 1644112177493,
     "user": {
      "displayName": "Michael Duprey",
      "photoUrl": "https://lh3.googleusercontent.com/a-/AOh14GhbSFcjL36v0OKLBQ3jUFBauo0tBLUD-KT_zCMchw=s64",
      "userId": "05498947526580544465"
     },
     "user_tz": 420
    },
    "id": "xkemKFXaAmc3",
    "outputId": "f81e4b7b-b7d6-40e5-a24c-48bf3b895e44"
   },
   "outputs": [
    {
     "name": "stdout",
     "output_type": "stream",
     "text": [
      "Structure exists: 'c:\\Users\\彭一洪\\Downloads\\LR_Protein_Classifier\\LR_Protein_Classifier\\data\\a9\\pdb1a9x.ent' \n"
     ]
    }
   ],
   "source": [
    "file = PDBList().retrieve_pdb_file(pdb_code='1a9x', file_format='pdb')"
   ]
  },
  {
   "cell_type": "markdown",
   "metadata": {
    "id": "eTeYVU733kcv"
   },
   "source": [
    "## View files"
   ]
  },
  {
   "cell_type": "code",
   "execution_count": 12,
   "metadata": {
    "colab": {
     "base_uri": "https://localhost:8080/",
     "height": 514
    },
    "executionInfo": {
     "elapsed": 1144,
     "status": "ok",
     "timestamp": 1644112185970,
     "user": {
      "displayName": "Michael Duprey",
      "photoUrl": "https://lh3.googleusercontent.com/a-/AOh14GhbSFcjL36v0OKLBQ3jUFBauo0tBLUD-KT_zCMchw=s64",
      "userId": "05498947526580544465"
     },
     "user_tz": 420
    },
    "id": "TiEoPbkk0nWW",
    "outputId": "83891ffc-fd5b-476f-b373-a60d2a567252"
   },
   "outputs": [
    {
     "data": {
      "application/3dmoljs_load.v0": "<div id=\"3dmolviewer_17419251927656634\"  style=\"position: relative; width: 640px; height: 480px;\">\n        <p id=\"3dmolwarning_17419251927656634\" style=\"background-color:#ffcccc;color:black\">3Dmol.js failed to load for some reason.  Please check your browser console for error messages.<br></p>\n        </div>\n<script>\n\nvar loadScriptAsync = function(uri){\n  return new Promise((resolve, reject) => {\n    //this is to ignore the existence of requirejs amd\n    var savedexports, savedmodule;\n    if (typeof exports !== 'undefined') savedexports = exports;\n    else exports = {}\n    if (typeof module !== 'undefined') savedmodule = module;\n    else module = {}\n\n    var tag = document.createElement('script');\n    tag.src = uri;\n    tag.async = true;\n    tag.onload = () => {\n        exports = savedexports;\n        module = savedmodule;\n        resolve();\n    };\n  var firstScriptTag = document.getElementsByTagName('script')[0];\n  firstScriptTag.parentNode.insertBefore(tag, firstScriptTag);\n});\n};\n\nif(typeof $3Dmolpromise === 'undefined') {\n$3Dmolpromise = null;\n  $3Dmolpromise = loadScriptAsync('https://cdnjs.cloudflare.com/ajax/libs/3Dmol/2.4.2/3Dmol-min.js');\n}\n\nvar viewer_17419251927656634 = null;\nvar warn = document.getElementById(\"3dmolwarning_17419251927656634\");\nif(warn) {\n    warn.parentNode.removeChild(warn);\n}\n$3Dmolpromise.then(function() {\nviewer_17419251927656634 = $3Dmol.createViewer(document.getElementById(\"3dmolviewer_17419251927656634\"),{backgroundColor:\"white\"});\n$3Dmol.download(\"pdb:1A9X\", viewer_17419251927656634, {}, function() {\nviewer_17419251927656634.zoomTo();\n\tviewer_17419251927656634.setStyle({\"cartoon\": {\"color\": \"spectrum\", \"arrows\": \"true\"}});\n\tviewer_17419251927656634.render();\nviewer_17419251927656634.render();\n})\n});\n</script>",
      "text/html": [
       "<div id=\"3dmolviewer_17419251927656634\"  style=\"position: relative; width: 640px; height: 480px;\">\n",
       "        <p id=\"3dmolwarning_17419251927656634\" style=\"background-color:#ffcccc;color:black\">3Dmol.js failed to load for some reason.  Please check your browser console for error messages.<br></p>\n",
       "        </div>\n",
       "<script>\n",
       "\n",
       "var loadScriptAsync = function(uri){\n",
       "  return new Promise((resolve, reject) => {\n",
       "    //this is to ignore the existence of requirejs amd\n",
       "    var savedexports, savedmodule;\n",
       "    if (typeof exports !== 'undefined') savedexports = exports;\n",
       "    else exports = {}\n",
       "    if (typeof module !== 'undefined') savedmodule = module;\n",
       "    else module = {}\n",
       "\n",
       "    var tag = document.createElement('script');\n",
       "    tag.src = uri;\n",
       "    tag.async = true;\n",
       "    tag.onload = () => {\n",
       "        exports = savedexports;\n",
       "        module = savedmodule;\n",
       "        resolve();\n",
       "    };\n",
       "  var firstScriptTag = document.getElementsByTagName('script')[0];\n",
       "  firstScriptTag.parentNode.insertBefore(tag, firstScriptTag);\n",
       "});\n",
       "};\n",
       "\n",
       "if(typeof $3Dmolpromise === 'undefined') {\n",
       "$3Dmolpromise = null;\n",
       "  $3Dmolpromise = loadScriptAsync('https://cdnjs.cloudflare.com/ajax/libs/3Dmol/2.4.2/3Dmol-min.js');\n",
       "}\n",
       "\n",
       "var viewer_17419251927656634 = null;\n",
       "var warn = document.getElementById(\"3dmolwarning_17419251927656634\");\n",
       "if(warn) {\n",
       "    warn.parentNode.removeChild(warn);\n",
       "}\n",
       "$3Dmolpromise.then(function() {\n",
       "viewer_17419251927656634 = $3Dmol.createViewer(document.getElementById(\"3dmolviewer_17419251927656634\"),{backgroundColor:\"white\"});\n",
       "$3Dmol.download(\"pdb:1A9X\", viewer_17419251927656634, {}, function() {\n",
       "viewer_17419251927656634.zoomTo();\n",
       "\tviewer_17419251927656634.setStyle({\"cartoon\": {\"color\": \"spectrum\", \"arrows\": \"true\"}});\n",
       "\tviewer_17419251927656634.render();\n",
       "viewer_17419251927656634.render();\n",
       "})\n",
       "});\n",
       "</script>"
      ]
     },
     "metadata": {},
     "output_type": "display_data"
    },
    {
     "data": {
      "text/plain": [
       "<py3Dmol.view at 0x1cd15206a10>"
      ]
     },
     "execution_count": 12,
     "metadata": {},
     "output_type": "execute_result"
    }
   ],
   "source": [
    "mol = view_mol(file, style = 'cartoon')\n",
    "mol"
   ]
  },
  {
   "cell_type": "code",
   "execution_count": 13,
   "metadata": {},
   "outputs": [
    {
     "data": {
      "application/3dmoljs_load.v0": "<div id=\"3dmolviewer_17419251927755227\"  style=\"position: relative; width: 640px; height: 480px;\">\n        <p id=\"3dmolwarning_17419251927755227\" style=\"background-color:#ffcccc;color:black\">3Dmol.js failed to load for some reason.  Please check your browser console for error messages.<br></p>\n        </div>\n<script>\n\nvar loadScriptAsync = function(uri){\n  return new Promise((resolve, reject) => {\n    //this is to ignore the existence of requirejs amd\n    var savedexports, savedmodule;\n    if (typeof exports !== 'undefined') savedexports = exports;\n    else exports = {}\n    if (typeof module !== 'undefined') savedmodule = module;\n    else module = {}\n\n    var tag = document.createElement('script');\n    tag.src = uri;\n    tag.async = true;\n    tag.onload = () => {\n        exports = savedexports;\n        module = savedmodule;\n        resolve();\n    };\n  var firstScriptTag = document.getElementsByTagName('script')[0];\n  firstScriptTag.parentNode.insertBefore(tag, firstScriptTag);\n});\n};\n\nif(typeof $3Dmolpromise === 'undefined') {\n$3Dmolpromise = null;\n  $3Dmolpromise = loadScriptAsync('https://cdnjs.cloudflare.com/ajax/libs/3Dmol/2.4.2/3Dmol-min.js');\n}\n\nvar viewer_17419251927755227 = null;\nvar warn = document.getElementById(\"3dmolwarning_17419251927755227\");\nif(warn) {\n    warn.parentNode.removeChild(warn);\n}\n$3Dmolpromise.then(function() {\nviewer_17419251927755227 = $3Dmol.createViewer(document.getElementById(\"3dmolviewer_17419251927755227\"),{backgroundColor:\"white\"});\n$3Dmol.download(\"pdb:1a9x\", viewer_17419251927755227, {}, function() {\nviewer_17419251927755227.zoomTo();\n\tviewer_17419251927755227.setStyle({\"chain\": \"A\"},{\"cartoon\": {\"color\": \"spectrum\"}});\n\tviewer_17419251927755227.addSurface(1,{\"opacity\": 0.7, \"color\": \"white\"},{\"chain\": \"A\"});\n\tviewer_17419251927755227.setStyle({\"chain\": \"B\"},{\"stick\": {}});\nviewer_17419251927755227.render();\n})\n});\n</script>",
      "text/html": [
       "<div id=\"3dmolviewer_17419251927755227\"  style=\"position: relative; width: 640px; height: 480px;\">\n",
       "        <p id=\"3dmolwarning_17419251927755227\" style=\"background-color:#ffcccc;color:black\">3Dmol.js failed to load for some reason.  Please check your browser console for error messages.<br></p>\n",
       "        </div>\n",
       "<script>\n",
       "\n",
       "var loadScriptAsync = function(uri){\n",
       "  return new Promise((resolve, reject) => {\n",
       "    //this is to ignore the existence of requirejs amd\n",
       "    var savedexports, savedmodule;\n",
       "    if (typeof exports !== 'undefined') savedexports = exports;\n",
       "    else exports = {}\n",
       "    if (typeof module !== 'undefined') savedmodule = module;\n",
       "    else module = {}\n",
       "\n",
       "    var tag = document.createElement('script');\n",
       "    tag.src = uri;\n",
       "    tag.async = true;\n",
       "    tag.onload = () => {\n",
       "        exports = savedexports;\n",
       "        module = savedmodule;\n",
       "        resolve();\n",
       "    };\n",
       "  var firstScriptTag = document.getElementsByTagName('script')[0];\n",
       "  firstScriptTag.parentNode.insertBefore(tag, firstScriptTag);\n",
       "});\n",
       "};\n",
       "\n",
       "if(typeof $3Dmolpromise === 'undefined') {\n",
       "$3Dmolpromise = null;\n",
       "  $3Dmolpromise = loadScriptAsync('https://cdnjs.cloudflare.com/ajax/libs/3Dmol/2.4.2/3Dmol-min.js');\n",
       "}\n",
       "\n",
       "var viewer_17419251927755227 = null;\n",
       "var warn = document.getElementById(\"3dmolwarning_17419251927755227\");\n",
       "if(warn) {\n",
       "    warn.parentNode.removeChild(warn);\n",
       "}\n",
       "$3Dmolpromise.then(function() {\n",
       "viewer_17419251927755227 = $3Dmol.createViewer(document.getElementById(\"3dmolviewer_17419251927755227\"),{backgroundColor:\"white\"});\n",
       "$3Dmol.download(\"pdb:1a9x\", viewer_17419251927755227, {}, function() {\n",
       "viewer_17419251927755227.zoomTo();\n",
       "\tviewer_17419251927755227.setStyle({\"chain\": \"A\"},{\"cartoon\": {\"color\": \"spectrum\"}});\n",
       "\tviewer_17419251927755227.addSurface(1,{\"opacity\": 0.7, \"color\": \"white\"},{\"chain\": \"A\"});\n",
       "\tviewer_17419251927755227.setStyle({\"chain\": \"B\"},{\"stick\": {}});\n",
       "viewer_17419251927755227.render();\n",
       "})\n",
       "});\n",
       "</script>"
      ]
     },
     "metadata": {},
     "output_type": "display_data"
    }
   ],
   "source": [
    "view = py3Dmol.view(query='pdb:1a9x')\n",
    "chA = {'chain':'A'}\n",
    "chB = {'chain':'B'}\n",
    "view.setStyle(chA,{'cartoon': {'color':'spectrum'}})\n",
    "view.addSurface(py3Dmol.VDW,{'opacity':0.7,'color':'white'}, chA)\n",
    "view.setStyle(chB,{'stick':{}})\n",
    "view.show()"
   ]
  }
 ],
 "metadata": {
  "accelerator": "GPU",
  "colab": {
   "authorship_tag": "ABX9TyPbA9lVR4r+UcE6VeKoOWuK",
   "collapsed_sections": [],
   "mount_file_id": "139Bvmh33NSqXJ4ymThNgkvN33UNRE-gD",
   "name": "protein-3D.ipynb",
   "provenance": []
  },
  "kernelspec": {
   "display_name": "base",
   "language": "python",
   "name": "python3"
  },
  "language_info": {
   "codemirror_mode": {
    "name": "ipython",
    "version": 3
   },
   "file_extension": ".py",
   "mimetype": "text/x-python",
   "name": "python",
   "nbconvert_exporter": "python",
   "pygments_lexer": "ipython3",
   "version": "3.11.7"
  }
 },
 "nbformat": 4,
 "nbformat_minor": 0
}
